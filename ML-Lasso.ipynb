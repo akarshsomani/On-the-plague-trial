{
 "cells": [
  {
   "cell_type": "code",
   "execution_count": 1,
   "metadata": {
    "pycharm": {
     "is_executing": false
    }
   },
   "outputs": [],
   "source": [
    "%config IPCompleter.greedy=True\n",
    "%matplotlib notebook"
   ]
  },
  {
   "cell_type": "code",
   "execution_count": 2,
   "metadata": {
    "pycharm": {
     "is_executing": false
    }
   },
   "outputs": [],
   "source": [
    "import numpy as np\n",
    "import pandas as pd\n",
    "import matplotlib.pyplot as plt"
   ]
  },
  {
   "cell_type": "code",
   "execution_count": 3,
   "metadata": {
    "pycharm": {
     "is_executing": false,
     "name": "#%%\n"
    }
   },
   "outputs": [
    {
     "data": {
      "text/html": [
       "<div>\n",
       "<style scoped>\n",
       "    .dataframe tbody tr th:only-of-type {\n",
       "        vertical-align: middle;\n",
       "    }\n",
       "\n",
       "    .dataframe tbody tr th {\n",
       "        vertical-align: top;\n",
       "    }\n",
       "\n",
       "    .dataframe thead th {\n",
       "        text-align: right;\n",
       "    }\n",
       "</style>\n",
       "<table border=\"1\" class=\"dataframe\">\n",
       "  <thead>\n",
       "    <tr style=\"text-align: right;\">\n",
       "      <th></th>\n",
       "      <th>ID</th>\n",
       "      <th>DateTime</th>\n",
       "      <th>TempOut</th>\n",
       "      <th>HiTemp</th>\n",
       "      <th>LowTemp</th>\n",
       "      <th>OutHum</th>\n",
       "      <th>DewPt</th>\n",
       "      <th>WindSpeed</th>\n",
       "      <th>WindDir</th>\n",
       "      <th>WindRun</th>\n",
       "      <th>...</th>\n",
       "      <th>WindTx</th>\n",
       "      <th>ISSRecpt</th>\n",
       "      <th>ArcInt</th>\n",
       "      <th>PA</th>\n",
       "      <th>PB</th>\n",
       "      <th>PC</th>\n",
       "      <th>PD</th>\n",
       "      <th>PE</th>\n",
       "      <th>PF</th>\n",
       "      <th>PG</th>\n",
       "    </tr>\n",
       "  </thead>\n",
       "  <tbody>\n",
       "    <tr>\n",
       "      <th>0</th>\n",
       "      <td>PR00001</td>\n",
       "      <td>07-12-2040 0:15</td>\n",
       "      <td>53.5</td>\n",
       "      <td>53.6</td>\n",
       "      <td>53.5</td>\n",
       "      <td>85</td>\n",
       "      <td>49.1</td>\n",
       "      <td>2</td>\n",
       "      <td>SSE</td>\n",
       "      <td>0.5</td>\n",
       "      <td>...</td>\n",
       "      <td>1</td>\n",
       "      <td>100.0</td>\n",
       "      <td>15</td>\n",
       "      <td>1</td>\n",
       "      <td>1</td>\n",
       "      <td>1</td>\n",
       "      <td>1</td>\n",
       "      <td>1</td>\n",
       "      <td>1</td>\n",
       "      <td>1</td>\n",
       "    </tr>\n",
       "    <tr>\n",
       "      <th>1</th>\n",
       "      <td>PR00002</td>\n",
       "      <td>07-12-2040 0:30</td>\n",
       "      <td>53.5</td>\n",
       "      <td>53.5</td>\n",
       "      <td>53.4</td>\n",
       "      <td>85</td>\n",
       "      <td>49.1</td>\n",
       "      <td>2</td>\n",
       "      <td>SSE</td>\n",
       "      <td>0.5</td>\n",
       "      <td>...</td>\n",
       "      <td>1</td>\n",
       "      <td>100.0</td>\n",
       "      <td>15</td>\n",
       "      <td>1</td>\n",
       "      <td>1</td>\n",
       "      <td>1</td>\n",
       "      <td>1</td>\n",
       "      <td>1</td>\n",
       "      <td>1</td>\n",
       "      <td>1</td>\n",
       "    </tr>\n",
       "    <tr>\n",
       "      <th>2</th>\n",
       "      <td>PR00003</td>\n",
       "      <td>07-12-2040 0:45</td>\n",
       "      <td>53.3</td>\n",
       "      <td>53.5</td>\n",
       "      <td>53.2</td>\n",
       "      <td>85</td>\n",
       "      <td>48.9</td>\n",
       "      <td>2</td>\n",
       "      <td>SSE</td>\n",
       "      <td>0.5</td>\n",
       "      <td>...</td>\n",
       "      <td>1</td>\n",
       "      <td>100.0</td>\n",
       "      <td>15</td>\n",
       "      <td>1</td>\n",
       "      <td>1</td>\n",
       "      <td>1</td>\n",
       "      <td>1</td>\n",
       "      <td>1</td>\n",
       "      <td>1</td>\n",
       "      <td>1</td>\n",
       "    </tr>\n",
       "    <tr>\n",
       "      <th>3</th>\n",
       "      <td>PR00004</td>\n",
       "      <td>07-12-2040 1:00</td>\n",
       "      <td>53.1</td>\n",
       "      <td>53.3</td>\n",
       "      <td>53.0</td>\n",
       "      <td>86</td>\n",
       "      <td>49.0</td>\n",
       "      <td>2</td>\n",
       "      <td>S</td>\n",
       "      <td>0.5</td>\n",
       "      <td>...</td>\n",
       "      <td>1</td>\n",
       "      <td>100.0</td>\n",
       "      <td>15</td>\n",
       "      <td>1</td>\n",
       "      <td>1</td>\n",
       "      <td>1</td>\n",
       "      <td>1</td>\n",
       "      <td>1</td>\n",
       "      <td>1</td>\n",
       "      <td>1</td>\n",
       "    </tr>\n",
       "    <tr>\n",
       "      <th>4</th>\n",
       "      <td>PR00005</td>\n",
       "      <td>07-12-2040 1:15</td>\n",
       "      <td>52.9</td>\n",
       "      <td>53.1</td>\n",
       "      <td>52.9</td>\n",
       "      <td>86</td>\n",
       "      <td>48.8</td>\n",
       "      <td>2</td>\n",
       "      <td>S</td>\n",
       "      <td>0.5</td>\n",
       "      <td>...</td>\n",
       "      <td>1</td>\n",
       "      <td>100.0</td>\n",
       "      <td>15</td>\n",
       "      <td>1</td>\n",
       "      <td>1</td>\n",
       "      <td>1</td>\n",
       "      <td>1</td>\n",
       "      <td>1</td>\n",
       "      <td>1</td>\n",
       "      <td>1</td>\n",
       "    </tr>\n",
       "  </tbody>\n",
       "</table>\n",
       "<p>5 rows × 37 columns</p>\n",
       "</div>"
      ],
      "text/plain": [
       "        ID         DateTime  TempOut  HiTemp  LowTemp  OutHum  DewPt  \\\n",
       "0  PR00001  07-12-2040 0:15     53.5    53.6     53.5      85   49.1   \n",
       "1  PR00002  07-12-2040 0:30     53.5    53.5     53.4      85   49.1   \n",
       "2  PR00003  07-12-2040 0:45     53.3    53.5     53.2      85   48.9   \n",
       "3  PR00004  07-12-2040 1:00     53.1    53.3     53.0      86   49.0   \n",
       "4  PR00005  07-12-2040 1:15     52.9    53.1     52.9      86   48.8   \n",
       "\n",
       "   WindSpeed WindDir  WindRun  ...  WindTx ISSRecpt  ArcInt  PA  PB  PC  PD  \\\n",
       "0          2     SSE      0.5  ...       1    100.0      15   1   1   1   1   \n",
       "1          2     SSE      0.5  ...       1    100.0      15   1   1   1   1   \n",
       "2          2     SSE      0.5  ...       1    100.0      15   1   1   1   1   \n",
       "3          2       S      0.5  ...       1    100.0      15   1   1   1   1   \n",
       "4          2       S      0.5  ...       1    100.0      15   1   1   1   1   \n",
       "\n",
       "   PE  PF  PG  \n",
       "0   1   1   1  \n",
       "1   1   1   1  \n",
       "2   1   1   1  \n",
       "3   1   1   1  \n",
       "4   1   1   1  \n",
       "\n",
       "[5 rows x 37 columns]"
      ]
     },
     "execution_count": 3,
     "metadata": {},
     "output_type": "execute_result"
    }
   ],
   "source": [
    "train=pd.read_csv('train.csv')\n",
    "train.head()"
   ]
  },
  {
   "cell_type": "code",
   "execution_count": 4,
   "metadata": {},
   "outputs": [
    {
     "name": "stdout",
     "output_type": "stream",
     "text": [
      "<class 'pandas.core.frame.DataFrame'>\n",
      "RangeIndex: 40000 entries, 0 to 39999\n",
      "Data columns (total 37 columns):\n",
      "ID              40000 non-null object\n",
      "DateTime        40000 non-null object\n",
      "TempOut         40000 non-null float64\n",
      "HiTemp          40000 non-null float64\n",
      "LowTemp         40000 non-null float64\n",
      "OutHum          40000 non-null int64\n",
      "DewPt           40000 non-null float64\n",
      "WindSpeed       40000 non-null int64\n",
      "WindDir         40000 non-null object\n",
      "WindRun         40000 non-null float64\n",
      "HiSpeed         40000 non-null int64\n",
      "HiDir           40000 non-null object\n",
      "WindChill       40000 non-null float64\n",
      "HeatIndex       40000 non-null float64\n",
      "THWIndex        40000 non-null float64\n",
      "Bar             40000 non-null float64\n",
      "Rain            40000 non-null float64\n",
      "RainRate        40000 non-null float64\n",
      "HeatDD          40000 non-null float64\n",
      "CoolDD          40000 non-null float64\n",
      "InTemp          40000 non-null float64\n",
      "InHum           40000 non-null int64\n",
      "InDew           40000 non-null float64\n",
      "InHeat          40000 non-null float64\n",
      "InEMC           40000 non-null float64\n",
      "InAirDensity    40000 non-null float64\n",
      "WindSamp        40000 non-null int64\n",
      "WindTx          40000 non-null int64\n",
      "ISSRecpt        40000 non-null float64\n",
      "ArcInt          40000 non-null int64\n",
      "PA              40000 non-null int64\n",
      "PB              40000 non-null int64\n",
      "PC              40000 non-null int64\n",
      "PD              40000 non-null int64\n",
      "PE              40000 non-null int64\n",
      "PF              40000 non-null int64\n",
      "PG              40000 non-null int64\n",
      "dtypes: float64(19), int64(14), object(4)\n",
      "memory usage: 11.3+ MB\n"
     ]
    }
   ],
   "source": [
    "train.info()"
   ]
  },
  {
   "cell_type": "code",
   "execution_count": 5,
   "metadata": {
    "pycharm": {
     "is_executing": false,
     "name": "#%%\n"
    }
   },
   "outputs": [],
   "source": [
    "test=pd.read_csv('test.csv')\n",
    "test.head()\n",
    "ID=test['ID']"
   ]
  },
  {
   "cell_type": "code",
   "execution_count": 6,
   "metadata": {},
   "outputs": [],
   "source": [
    "train=train.select_dtypes(exclude='object')\n",
    "test=test.select_dtypes(exclude='object')"
   ]
  },
  {
   "cell_type": "code",
   "execution_count": 7,
   "metadata": {},
   "outputs": [
    {
     "name": "stdout",
     "output_type": "stream",
     "text": [
      "<class 'pandas.core.frame.DataFrame'>\n",
      "RangeIndex: 40000 entries, 0 to 39999\n",
      "Data columns (total 33 columns):\n",
      "TempOut         40000 non-null float64\n",
      "HiTemp          40000 non-null float64\n",
      "LowTemp         40000 non-null float64\n",
      "OutHum          40000 non-null int64\n",
      "DewPt           40000 non-null float64\n",
      "WindSpeed       40000 non-null int64\n",
      "WindRun         40000 non-null float64\n",
      "HiSpeed         40000 non-null int64\n",
      "WindChill       40000 non-null float64\n",
      "HeatIndex       40000 non-null float64\n",
      "THWIndex        40000 non-null float64\n",
      "Bar             40000 non-null float64\n",
      "Rain            40000 non-null float64\n",
      "RainRate        40000 non-null float64\n",
      "HeatDD          40000 non-null float64\n",
      "CoolDD          40000 non-null float64\n",
      "InTemp          40000 non-null float64\n",
      "InHum           40000 non-null int64\n",
      "InDew           40000 non-null float64\n",
      "InHeat          40000 non-null float64\n",
      "InEMC           40000 non-null float64\n",
      "InAirDensity    40000 non-null float64\n",
      "WindSamp        40000 non-null int64\n",
      "WindTx          40000 non-null int64\n",
      "ISSRecpt        40000 non-null float64\n",
      "ArcInt          40000 non-null int64\n",
      "PA              40000 non-null int64\n",
      "PB              40000 non-null int64\n",
      "PC              40000 non-null int64\n",
      "PD              40000 non-null int64\n",
      "PE              40000 non-null int64\n",
      "PF              40000 non-null int64\n",
      "PG              40000 non-null int64\n",
      "dtypes: float64(19), int64(14)\n",
      "memory usage: 10.1 MB\n"
     ]
    }
   ],
   "source": [
    "train.info()"
   ]
  },
  {
   "cell_type": "code",
   "execution_count": 8,
   "metadata": {},
   "outputs": [],
   "source": [
    "PA=train['PA']\n",
    "PB=train['PB']\n",
    "PC=train['PC']\n",
    "PD=train['PD']\n",
    "PE=train['PE']\n",
    "PF=train['PF']\n",
    "PG=train['PG']\n",
    "\n",
    "train=train.drop(['PA','PB','PC','PD','PE','PF','PG'],axis=1)"
   ]
  },
  {
   "cell_type": "code",
   "execution_count": 9,
   "metadata": {},
   "outputs": [
    {
     "name": "stderr",
     "output_type": "stream",
     "text": [
      "c:\\users\\akarsh somani\\documents\\on the plague trial\\venv\\lib\\site-packages\\sklearn\\linear_model\\coordinate_descent.py:475: ConvergenceWarning: Objective did not converge. You might want to increase the number of iterations. Duality gap: 7051745654.9289665, tolerance: 1666195.2373274374\n",
      "  positive)\n"
     ]
    }
   ],
   "source": [
    "from sklearn import linear_model\n",
    "reg = linear_model.Lasso(alpha=0.1)\n",
    "reg.fit(train,PA)\n",
    "PA_pred=reg.predict(test).astype(int)"
   ]
  },
  {
   "cell_type": "code",
   "execution_count": 10,
   "metadata": {},
   "outputs": [],
   "source": [
    "train['PA']=PA\n",
    "test['PA']=PA_pred"
   ]
  },
  {
   "cell_type": "code",
   "execution_count": 11,
   "metadata": {},
   "outputs": [
    {
     "name": "stderr",
     "output_type": "stream",
     "text": [
      "c:\\users\\akarsh somani\\documents\\on the plague trial\\venv\\lib\\site-packages\\sklearn\\linear_model\\coordinate_descent.py:475: ConvergenceWarning: Objective did not converge. You might want to increase the number of iterations. Duality gap: 414225.3082758365, tolerance: 413846.52685519727\n",
      "  positive)\n"
     ]
    }
   ],
   "source": [
    "from sklearn import linear_model\n",
    "reg = linear_model.Lasso(alpha=0.1)\n",
    "reg.fit(train,PB)\n",
    "PB_pred=reg.predict(test).astype(int)"
   ]
  },
  {
   "cell_type": "code",
   "execution_count": 12,
   "metadata": {},
   "outputs": [],
   "source": [
    "train['PB']=PB\n",
    "test['PB']=PB_pred"
   ]
  },
  {
   "cell_type": "code",
   "execution_count": 13,
   "metadata": {},
   "outputs": [
    {
     "name": "stderr",
     "output_type": "stream",
     "text": [
      "c:\\users\\akarsh somani\\documents\\on the plague trial\\venv\\lib\\site-packages\\sklearn\\linear_model\\coordinate_descent.py:475: ConvergenceWarning: Objective did not converge. You might want to increase the number of iterations. Duality gap: 130917.26450418483, tolerance: 129786.90215999754\n",
      "  positive)\n"
     ]
    }
   ],
   "source": [
    "from sklearn import linear_model\n",
    "reg = linear_model.Lasso(alpha=0.1)\n",
    "reg.fit(train,PC)\n",
    "PC_pred=reg.predict(test).astype(int)"
   ]
  },
  {
   "cell_type": "code",
   "execution_count": 14,
   "metadata": {},
   "outputs": [],
   "source": [
    "train['PC']=PC\n",
    "test['PC']=PC_pred"
   ]
  },
  {
   "cell_type": "code",
   "execution_count": 15,
   "metadata": {},
   "outputs": [],
   "source": [
    "from sklearn import linear_model\n",
    "reg = linear_model.Lasso(alpha=0.1)\n",
    "reg.fit(train,PD)\n",
    "PD_pred=reg.predict(test).astype(int)"
   ]
  },
  {
   "cell_type": "code",
   "execution_count": 16,
   "metadata": {},
   "outputs": [],
   "source": [
    "train['PD']=PD\n",
    "test['PD']=PD_pred"
   ]
  },
  {
   "cell_type": "code",
   "execution_count": 17,
   "metadata": {},
   "outputs": [],
   "source": [
    "from sklearn import linear_model\n",
    "reg = linear_model.Lasso(alpha=0.1)\n",
    "reg.fit(train,PE)\n",
    "PE_pred=reg.predict(test).astype(int)"
   ]
  },
  {
   "cell_type": "code",
   "execution_count": 18,
   "metadata": {},
   "outputs": [],
   "source": [
    "train['PE']=PE\n",
    "test['PE']=PE_pred"
   ]
  },
  {
   "cell_type": "code",
   "execution_count": 19,
   "metadata": {},
   "outputs": [],
   "source": [
    "from sklearn import linear_model\n",
    "reg = linear_model.Lasso(alpha=0.1)\n",
    "reg.fit(train,PF)\n",
    "PF_pred=reg.predict(test).astype(int)"
   ]
  },
  {
   "cell_type": "code",
   "execution_count": 20,
   "metadata": {},
   "outputs": [],
   "source": [
    "train['PF']=PF\n",
    "test['PF']=PF_pred"
   ]
  },
  {
   "cell_type": "code",
   "execution_count": 21,
   "metadata": {},
   "outputs": [
    {
     "name": "stderr",
     "output_type": "stream",
     "text": [
      "c:\\users\\akarsh somani\\documents\\on the plague trial\\venv\\lib\\site-packages\\sklearn\\linear_model\\coordinate_descent.py:475: ConvergenceWarning: Objective did not converge. You might want to increase the number of iterations. Duality gap: 8617.165028711584, tolerance: 5334.714824297509\n",
      "  positive)\n"
     ]
    }
   ],
   "source": [
    "from sklearn import linear_model\n",
    "reg = linear_model.Lasso(alpha=0.1)\n",
    "reg.fit(train,PG)\n",
    "PG_pred=reg.predict(test).astype(int)"
   ]
  },
  {
   "cell_type": "code",
   "execution_count": 22,
   "metadata": {},
   "outputs": [],
   "source": [
    "train['PG']=PG\n",
    "test['PG']=PG_pred"
   ]
  },
  {
   "cell_type": "code",
   "execution_count": 23,
   "metadata": {},
   "outputs": [],
   "source": [
    "df=pd.DataFrame()\n",
    "df['ID']=ID\n",
    "df['PA']=PA_pred\n",
    "df['PB']=PB_pred\n",
    "df['PC']=PC_pred\n",
    "df['PD']=PD_pred\n",
    "df['PE']=PE_pred\n",
    "df['PF']=PF_pred\n",
    "df['PG']=PG_pred"
   ]
  },
  {
   "cell_type": "code",
   "execution_count": 24,
   "metadata": {},
   "outputs": [],
   "source": [
    "df.to_csv('output_lasso.csv',index=None)"
   ]
  },
  {
   "cell_type": "code",
   "execution_count": null,
   "metadata": {},
   "outputs": [],
   "source": []
  }
 ],
 "metadata": {
  "kernelspec": {
   "display_name": "Python 3",
   "language": "python",
   "name": "python3"
  },
  "language_info": {
   "codemirror_mode": {
    "name": "ipython",
    "version": 3
   },
   "file_extension": ".py",
   "mimetype": "text/x-python",
   "name": "python",
   "nbconvert_exporter": "python",
   "pygments_lexer": "ipython3",
   "version": "3.7.2"
  },
  "pycharm": {
   "stem_cell": {
    "cell_type": "raw",
    "metadata": {
     "collapsed": false
    },
    "source": []
   }
  }
 },
 "nbformat": 4,
 "nbformat_minor": 1
}
